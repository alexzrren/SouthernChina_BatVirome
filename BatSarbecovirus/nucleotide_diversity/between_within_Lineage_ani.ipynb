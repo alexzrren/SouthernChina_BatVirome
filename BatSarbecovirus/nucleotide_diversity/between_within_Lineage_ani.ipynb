{
 "cells": [
  {
   "cell_type": "code",
   "execution_count": 1,
   "metadata": {},
   "outputs": [],
   "source": [
    "import numpy as np\n",
    "import pandas as pd\n",
    "from tqdm import tqdm\n",
    "import Bio.SeqIO as SeqIO"
   ]
  },
  {
   "cell_type": "code",
   "execution_count": 2,
   "metadata": {},
   "outputs": [],
   "source": [
    "def calc_aai(seq1, seq2, region = [None, None], gap_rate = 0.8):\n",
    "    #if len(seq1) != len(seq2):\n",
    "    #    raise Exception('Sequence not aligned properly!')\n",
    "    length = len(seq1)\n",
    "    seq1_array = np.array(list(seq1))[region[0]:region[1]]\n",
    "    seq2_array = np.array(list(seq2))[region[0]:region[1]]\n",
    "    \n",
    "    non_gap_positions = (seq1_array != '-') & (seq2_array != '-')\n",
    "    match = np.sum(seq1_array[non_gap_positions] == seq2_array[non_gap_positions])\n",
    "    gap = length - np.count_nonzero(non_gap_positions)\n",
    "    \n",
    "    #try:\n",
    "    #    pident = match / (length - gap) * 100\n",
    "    #except ZeroDivisionError:\n",
    "    #    pident = 'NA'\n",
    "    \n",
    "    return (length - gap - match)/length"
   ]
  },
  {
   "cell_type": "code",
   "execution_count": 3,
   "metadata": {},
   "outputs": [
    {
     "data": {
      "text/html": [
       "<div>\n",
       "<style scoped>\n",
       "    .dataframe tbody tr th:only-of-type {\n",
       "        vertical-align: middle;\n",
       "    }\n",
       "\n",
       "    .dataframe tbody tr th {\n",
       "        vertical-align: top;\n",
       "    }\n",
       "\n",
       "    .dataframe thead th {\n",
       "        text-align: right;\n",
       "    }\n",
       "</style>\n",
       "<table border=\"1\" class=\"dataframe\">\n",
       "  <thead>\n",
       "    <tr style=\"text-align: right;\">\n",
       "      <th></th>\n",
       "      <th>seqid</th>\n",
       "      <th>seqheader</th>\n",
       "      <th>province</th>\n",
       "      <th>species</th>\n",
       "      <th>Lineage</th>\n",
       "    </tr>\n",
       "  </thead>\n",
       "  <tbody>\n",
       "    <tr>\n",
       "      <th>0</th>\n",
       "      <td>OK017807.1</td>\n",
       "      <td>Anhui_R.sinicus_AH2021A[OK017807.1]</td>\n",
       "      <td>Anhui</td>\n",
       "      <td>Rhinolophus_sinicus</td>\n",
       "      <td>5</td>\n",
       "    </tr>\n",
       "    <tr>\n",
       "      <th>1</th>\n",
       "      <td>OQ297705.1</td>\n",
       "      <td>Chongqing_R.rex_CQ/L80.18/2021[OQ297705.1]</td>\n",
       "      <td>Chongqing</td>\n",
       "      <td>Rhinolophus_rex</td>\n",
       "      <td>3</td>\n",
       "    </tr>\n",
       "    <tr>\n",
       "      <th>2</th>\n",
       "      <td>OK017808.1</td>\n",
       "      <td>Fujian_R.sinicus_FJ2021A[OK017808.1]</td>\n",
       "      <td>Fujian</td>\n",
       "      <td>Rhinolophus_sinicus</td>\n",
       "      <td>5</td>\n",
       "    </tr>\n",
       "    <tr>\n",
       "      <th>3</th>\n",
       "      <td>OK017809.1</td>\n",
       "      <td>Fujian_R.sinicus_FJ2021D[OK017809.1]</td>\n",
       "      <td>Fujian</td>\n",
       "      <td>Rhinolophus_sinicus</td>\n",
       "      <td>5</td>\n",
       "    </tr>\n",
       "    <tr>\n",
       "      <th>4</th>\n",
       "      <td>OK017810.1</td>\n",
       "      <td>Fujian_R.sinicus_FJ2021E[OK017810.1]</td>\n",
       "      <td>Fujian</td>\n",
       "      <td>Rhinolophus_sinicus</td>\n",
       "      <td>5</td>\n",
       "    </tr>\n",
       "    <tr>\n",
       "      <th>...</th>\n",
       "      <td>...</td>\n",
       "      <td>...</td>\n",
       "      <td>...</td>\n",
       "      <td>...</td>\n",
       "      <td>...</td>\n",
       "    </tr>\n",
       "    <tr>\n",
       "      <th>118</th>\n",
       "      <td>OP963575.1</td>\n",
       "      <td>Yunnan_R.thomasi_Bat/2018/S18LSBatR79[OP963575.1]</td>\n",
       "      <td>Yunnan</td>\n",
       "      <td>Rhinolophus_thomasi</td>\n",
       "      <td>4</td>\n",
       "    </tr>\n",
       "    <tr>\n",
       "      <th>119</th>\n",
       "      <td>OQ503506.1</td>\n",
       "      <td>Yunnan_R.thomasi_RsYN2018[B228][OQ503506.1]</td>\n",
       "      <td>Yunnan</td>\n",
       "      <td>Rhinolophus_thomasi</td>\n",
       "      <td>4</td>\n",
       "    </tr>\n",
       "    <tr>\n",
       "      <th>120</th>\n",
       "      <td>KF294457.1</td>\n",
       "      <td>Zhejiang_R.monoceros_Longquan-140[KF294457.1]</td>\n",
       "      <td>Zhejiang</td>\n",
       "      <td>Rhinolophus_monoceros</td>\n",
       "      <td>5</td>\n",
       "    </tr>\n",
       "    <tr>\n",
       "      <th>121</th>\n",
       "      <td>MG772933.1</td>\n",
       "      <td>Zhejiang_R.pusillus_bat-SL-CoVZC45[MG772933.1]</td>\n",
       "      <td>Zhejiang</td>\n",
       "      <td>Rhinolophus_pusillus</td>\n",
       "      <td>1</td>\n",
       "    </tr>\n",
       "    <tr>\n",
       "      <th>122</th>\n",
       "      <td>MG772934.1</td>\n",
       "      <td>Zhejiang_R.pusillus_bat-SL-CoVZXC21[MG772934.1]</td>\n",
       "      <td>Zhejiang</td>\n",
       "      <td>Rhinolophus_pusillus</td>\n",
       "      <td>1</td>\n",
       "    </tr>\n",
       "  </tbody>\n",
       "</table>\n",
       "<p>123 rows × 5 columns</p>\n",
       "</div>"
      ],
      "text/plain": [
       "          seqid                                          seqheader   province  \\\n",
       "0    OK017807.1                Anhui_R.sinicus_AH2021A[OK017807.1]      Anhui   \n",
       "1    OQ297705.1         Chongqing_R.rex_CQ/L80.18/2021[OQ297705.1]  Chongqing   \n",
       "2    OK017808.1               Fujian_R.sinicus_FJ2021A[OK017808.1]     Fujian   \n",
       "3    OK017809.1               Fujian_R.sinicus_FJ2021D[OK017809.1]     Fujian   \n",
       "4    OK017810.1               Fujian_R.sinicus_FJ2021E[OK017810.1]     Fujian   \n",
       "..          ...                                                ...        ...   \n",
       "118  OP963575.1  Yunnan_R.thomasi_Bat/2018/S18LSBatR79[OP963575.1]     Yunnan   \n",
       "119  OQ503506.1        Yunnan_R.thomasi_RsYN2018[B228][OQ503506.1]     Yunnan   \n",
       "120  KF294457.1      Zhejiang_R.monoceros_Longquan-140[KF294457.1]   Zhejiang   \n",
       "121  MG772933.1     Zhejiang_R.pusillus_bat-SL-CoVZC45[MG772933.1]   Zhejiang   \n",
       "122  MG772934.1    Zhejiang_R.pusillus_bat-SL-CoVZXC21[MG772934.1]   Zhejiang   \n",
       "\n",
       "                   species Lineage  \n",
       "0      Rhinolophus_sinicus       5  \n",
       "1          Rhinolophus_rex       3  \n",
       "2      Rhinolophus_sinicus       5  \n",
       "3      Rhinolophus_sinicus       5  \n",
       "4      Rhinolophus_sinicus       5  \n",
       "..                     ...     ...  \n",
       "118    Rhinolophus_thomasi       4  \n",
       "119    Rhinolophus_thomasi       4  \n",
       "120  Rhinolophus_monoceros       5  \n",
       "121   Rhinolophus_pusillus       1  \n",
       "122   Rhinolophus_pusillus       1  \n",
       "\n",
       "[123 rows x 5 columns]"
      ]
     },
     "execution_count": 3,
     "metadata": {},
     "output_type": "execute_result"
    }
   ],
   "source": [
    "metadata = pd.read_csv('/jdfssz1/ST_HEALTH/P20Z10200N0206/wangdaxi/Projects/SouthChinaBat/Sarbecovirus/01.Sarbecovirus_genome_set/Rhinolophus_final_metatable.csv', header=None, names=['seqid', 'seqheader', 'province', 'species'])\n",
    "lineage_info = pd.read_table('/jdfssz1/ST_HEALTH/P20Z10200N0206/renzirui/Projects/GIZ_SouthernChinaBat_clean/BatSarbecovirus/order_in_plot_given_ordering.txt', sep='\\s+')\n",
    "lineage_info['Lineage'] = lineage_info['Lineage'].astype(str)\n",
    "metadata_addlineage = metadata.merge(lineage_info[['Name', 'Lineage']], right_on='Name', left_on='seqid', how='right').drop('Name', axis=1)\n",
    "metadata_addlineage"
   ]
  },
  {
   "cell_type": "code",
   "execution_count": 4,
   "metadata": {},
   "outputs": [],
   "source": [
    "seqdict = SeqIO.to_dict(SeqIO.parse(\"/jdfssz1/ST_HEALTH/P20Z10200N0206/renzirui/Projects/GIZ_SouthernChinaBat_clean/BatSarbecovirus/bat_sarbecovirus_cdhit_mafft_output_selected_Rhinolophus.clean.rmwronghost.fa\", format='fasta'))"
   ]
  },
  {
   "cell_type": "code",
   "execution_count": 5,
   "metadata": {},
   "outputs": [],
   "source": [
    "seqid_list = list(metadata_addlineage['seqid'])"
   ]
  },
  {
   "cell_type": "code",
   "execution_count": 6,
   "metadata": {},
   "outputs": [
    {
     "data": {
      "text/plain": [
       "{'OK017807.1': '5',\n",
       " 'OQ297705.1': '3',\n",
       " 'OK017808.1': '5',\n",
       " 'OK017809.1': '5',\n",
       " 'OK017810.1': '5',\n",
       " 'OK017811.1': '5',\n",
       " 'OK017792.1': '4',\n",
       " 'OQ297701.1': '5',\n",
       " 'OQ297702.1': '5',\n",
       " 'OQ297703.1': '5',\n",
       " 'OQ503495.1': '5',\n",
       " 'DQ022305.2': '5',\n",
       " 'GQ153539.1': '5',\n",
       " 'GQ153542.1': '5',\n",
       " 'GQ153543.1': '5',\n",
       " 'GQ153545.1': '5',\n",
       " 'GQ153547.1': '5',\n",
       " 'HD13589': '5',\n",
       " 'B68': '5',\n",
       " '201924': '5',\n",
       " 'B50': '5',\n",
       " 'MW681002.1': '5',\n",
       " 'CH231': '5',\n",
       " 'OK017812.1': '5',\n",
       " 'OK017813.1': '5',\n",
       " 'CH063': '5',\n",
       " 'OK017820.1': '5',\n",
       " 'OK017822.1': '5',\n",
       " 'OK017823.1': '5',\n",
       " 'OK017824.1': '5',\n",
       " 'OK017825.1': '5',\n",
       " 'OK017827.1': '5',\n",
       " 'OK017828.1': '5',\n",
       " 'CH007': '5',\n",
       " 'B87': '5',\n",
       " 'B86': '5',\n",
       " 'DQ071615.1': '4',\n",
       " 'OK017859.1': '3',\n",
       " 'FJ588686.1': '4',\n",
       " 'KJ473815.1': '4',\n",
       " 'KY770858.1': '4',\n",
       " 'OQ503497.1': '3',\n",
       " 'OK017829.1': '4',\n",
       " 'OK017830.1': '4',\n",
       " 'OK017831.1': '4',\n",
       " 'KJ473812.1': '2',\n",
       " 'KY770860.1': '2',\n",
       " 'DQ648856.1': '2',\n",
       " 'DQ412042.1': '2',\n",
       " 'DQ648857.1': '3',\n",
       " 'DQ412043.1': '3',\n",
       " 'KJ473814.1': '3',\n",
       " 'MZ328294.1': '3',\n",
       " 'OQ503498.1': '5',\n",
       " 'OK017803.1': '1',\n",
       " 'OK017805.1': '1',\n",
       " 'OK017832.1': '3',\n",
       " 'OK017833.1': '3',\n",
       " 'OK017834.1': '3',\n",
       " 'OK017835.1': '3',\n",
       " 'OK017860.1': '3',\n",
       " 'OK017836.1': '5',\n",
       " 'OK017837.1': '5',\n",
       " 'OK017838.1': '5',\n",
       " 'OK017839.1': '5',\n",
       " 'OK017840.1': '5',\n",
       " 'OK017841.1': '5',\n",
       " 'OK017842.1': '5',\n",
       " 'OK017843.1': '5',\n",
       " 'OK017844.1': '5',\n",
       " 'OK017845.1': '5',\n",
       " 'KJ473811.1': '2',\n",
       " 'KU182964.1': '2',\n",
       " 'OK017795.1': '2',\n",
       " 'OK017796.1': '2',\n",
       " 'OK017797.1': '2',\n",
       " 'OK017799.1': '2',\n",
       " 'KJ473813.1': '2',\n",
       " 'JX993987.1': '3',\n",
       " 'OK017846.1': '3',\n",
       " 'KF569996.1': '4',\n",
       " 'MK211375.1': '4',\n",
       " 'MK211377.1': '4',\n",
       " 'MK211378.1': '4',\n",
       " 'OK017793.1': '4',\n",
       " 'MW703458.1': '1',\n",
       " 'OK287355.1': '1',\n",
       " 'KP886808.1': '4',\n",
       " 'MZ081377.1': '4',\n",
       " 'OP963576.1': '1',\n",
       " 'OK017806.1': '1',\n",
       " 'KU973692.1': '4',\n",
       " 'OQ503500.1': '4',\n",
       " 'OQ503501.1': '4',\n",
       " 'OQ503502.1': '4',\n",
       " 'OQ503503.1': '4',\n",
       " 'OQ503504.1': '4',\n",
       " 'OQ503505.1': '4',\n",
       " 'KC881005.1': '4',\n",
       " 'KC881006.1': '4',\n",
       " 'KF367457.1': '4',\n",
       " 'KJ473816.1': '4',\n",
       " 'KY417143.1': '4',\n",
       " 'KY417144.1': '4',\n",
       " 'KY417146.1': '4',\n",
       " 'KY417147.1': '4',\n",
       " 'KY417148.1': '4',\n",
       " 'KY417149.1': '4',\n",
       " 'KY417150.1': '4',\n",
       " 'KY417151.1': '4',\n",
       " 'KY417152.1': '4',\n",
       " 'MZ081379.1': '4',\n",
       " 'OK017847.1': '4',\n",
       " 'OK017848.1': '4',\n",
       " 'OK017853.1': '4',\n",
       " 'OK017858.1': '4',\n",
       " 'OK287354.1': '4',\n",
       " 'MZ081382.1': '4',\n",
       " 'OP963575.1': '4',\n",
       " 'OQ503506.1': '4',\n",
       " 'KF294457.1': '5',\n",
       " 'MG772933.1': '1',\n",
       " 'MG772934.1': '1'}"
      ]
     },
     "execution_count": 6,
     "metadata": {},
     "output_type": "execute_result"
    }
   ],
   "source": [
    "seqid2lineage = metadata_addlineage.set_index('seqid').to_dict()[\"Lineage\"]\n",
    "seqid2lineage"
   ]
  },
  {
   "cell_type": "code",
   "execution_count": 19,
   "metadata": {},
   "outputs": [],
   "source": [
    "result = []\n",
    "for i in range(len(seqid2lineage)):\n",
    "    for j in range(i+1, len(seqid2lineage)):\n",
    "        same_lineage = seqid2lineage[seqid_list[i]] == seqid2lineage[seqid_list[j]]\n",
    "        aai = 1 - calc_aai(seqdict[seqid_list[i]], seqdict[seqid_list[j]])\n",
    "        result.append([same_lineage, aai])"
   ]
  },
  {
   "cell_type": "code",
   "execution_count": 22,
   "metadata": {},
   "outputs": [],
   "source": [
    "anidata = pd.DataFrame(result, columns = ['same_lineage', 'identity'])"
   ]
  },
  {
   "cell_type": "code",
   "execution_count": 25,
   "metadata": {},
   "outputs": [
    {
     "data": {
      "text/plain": [
       "MannwhitneyuResult(statistic=11183612.5, pvalue=0.0)"
      ]
     },
     "execution_count": 25,
     "metadata": {},
     "output_type": "execute_result"
    }
   ],
   "source": [
    "import scipy.stats as stat\n",
    "stat.mannwhitneyu(np.array(anidata.loc[anidata['same_lineage'], 'identity']), np.array(anidata.loc[~anidata['same_lineage'], 'identity']))"
   ]
  },
  {
   "cell_type": "code",
   "execution_count": 27,
   "metadata": {},
   "outputs": [
    {
     "data": {
      "text/plain": [
       "<Axes: xlabel='same_lineage', ylabel='identity'>"
      ]
     },
     "execution_count": 27,
     "metadata": {},
     "output_type": "execute_result"
    },
    {
     "data": {
      "image/png": "[encoded data removed]",
      "text/plain": [
       "<Figure size 640x480 with 1 Axes>"
      ]
     },
     "metadata": {},
     "output_type": "display_data"
    }
   ],
   "source": [
    "import seaborn as sns\n",
    "sns.boxplot(x='same_lineage', y='identity', data=anidata)"
   ]
  },
  {
   "cell_type": "code",
   "execution_count": null,
   "metadata": {},
   "outputs": [],
   "source": []
  }
 ],
 "metadata": {
  "kernelspec": {
   "display_name": "base",
   "language": "python",
   "name": "python3"
  },
  "language_info": {
   "codemirror_mode": {
    "name": "ipython",
    "version": 3
   },
   "file_extension": ".py",
   "mimetype": "text/x-python",
   "name": "python",
   "nbconvert_exporter": "python",
   "pygments_lexer": "ipython3",
   "version": "3.10.13"
  }
 },
 "nbformat": 4,
 "nbformat_minor": 2
}
